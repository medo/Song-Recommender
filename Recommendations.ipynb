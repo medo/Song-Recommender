{
 "cells": [
  {
   "cell_type": "markdown",
   "metadata": {},
   "source": [
    "# Lastfm Song Recommender"
   ]
  },
  {
   "cell_type": "markdown",
   "metadata": {},
   "source": [
    "The data used in this notebook are lastfm from the Million Song Dataset https://labrosa.ee.columbia.edu/millionsong/lastfm\n",
    "\n",
    "This notebook is built for fun, to try it:\n",
    "- Download the dataset\n",
    "- replace the tags list with your favorite song tags\n",
    "- Page rank will do the rest :)"
   ]
  },
  {
   "cell_type": "code",
   "execution_count": 8,
   "metadata": {
    "collapsed": false
   },
   "outputs": [],
   "source": [
    "import pandas as pd\n",
    "import numpy as np\n",
    "import zipfile\n",
    "import os\n",
    "import json\n",
    "from functools import reduce\n",
    "from scipy.sparse import coo_matrix\n",
    "import glob\n",
    "import urllib"
   ]
  },
  {
   "cell_type": "markdown",
   "metadata": {},
   "source": [
    "## Data Preparation"
   ]
  },
  {
   "cell_type": "code",
   "execution_count": 9,
   "metadata": {
    "collapsed": false
   },
   "outputs": [],
   "source": [
    "#One way to prepare the data is to flatten the nested directories\n",
    "#!find ../../lastfm_train/ -iname *.json -type f -exec mv -i '{}' ../../train_data ';'"
   ]
  },
  {
   "cell_type": "markdown",
   "metadata": {},
   "source": [
    "- Replace the data folder in data_path\n",
    "- file name accordingly"
   ]
  },
  {
   "cell_type": "code",
   "execution_count": 10,
   "metadata": {
    "collapsed": false
   },
   "outputs": [],
   "source": [
    "data_path = \"../../lastfm_train//\"\n",
    "files = glob.glob(data_path + \"*/**/**/**\")\n",
    "N = len(files)"
   ]
  },
  {
   "cell_type": "markdown",
   "metadata": {},
   "source": [
    "## PageRank on Songs"
   ]
  },
  {
   "cell_type": "markdown",
   "metadata": {},
   "source": [
    "Parameters"
   ]
  },
  {
   "cell_type": "code",
   "execution_count": 22,
   "metadata": {
    "collapsed": false
   },
   "outputs": [],
   "source": [
    "# (g) Tags Threshold\n",
    "g = 50\n",
    "# (t) Similarity Threshold\n",
    "t = 0\n",
    "# Teleport probability\n",
    "beta = 0.8\n",
    "epsilon = 0.00001\n",
    "max_iterations = 100\n",
    "tags = ['Hip-Hop']\n",
    "n_songs_to_recommend = 10"
   ]
  },
  {
   "cell_type": "markdown",
   "metadata": {},
   "source": [
    "Lookup Indicies"
   ]
  },
  {
   "cell_type": "code",
   "execution_count": 12,
   "metadata": {
    "collapsed": false
   },
   "outputs": [],
   "source": [
    "index_to_song = [x.split(\"/\")[-1].split(\".\")[0] for x in files]\n",
    "song_to_index = {index_to_song[index]: index for index in range(len(files))}\n",
    "index_to_title = [None] * N\n",
    "song_to_path = {x.split(\"/\")[-1].split(\".json\")[0]: \"/\".join(x.split(\"/\")[:-1]) for x in files}"
   ]
  },
  {
   "cell_type": "code",
   "execution_count": 13,
   "metadata": {
    "collapsed": true
   },
   "outputs": [],
   "source": [
    "tag_to_songs = {}\n",
    "def load_tags(js, song_index):\n",
    "    global tag_to_songs\n",
    "    for tag in js['tags']:\n",
    "        if int(tag[1]) < g: continue\n",
    "        tag_to_songs[tag[0]] = tag_to_songs.get(tag[0], []) + [song_index]"
   ]
  },
  {
   "cell_type": "code",
   "execution_count": 14,
   "metadata": {
    "collapsed": true
   },
   "outputs": [],
   "source": [
    "def union_by_tag(tags):\n",
    "    return list(set([song for t in tags for song in tag_to_songs[t]]))"
   ]
  },
  {
   "cell_type": "code",
   "execution_count": 15,
   "metadata": {
    "collapsed": true
   },
   "outputs": [],
   "source": [
    "similarity_graph = [None] * len(index_to_song)\n",
    "def load_similarity(js, song_index):\n",
    "    global similarity_graph\n",
    "    similarity_graph[song_index] = list(filter(lambda x: x, \n",
    "                                        map(lambda edge: edge[1] >= t\n",
    "                                            and edge[0] in song_to_index\n",
    "                                            and song_to_index[edge[0]], js['similars'])))\n",
    "    "
   ]
  },
  {
   "cell_type": "code",
   "execution_count": 16,
   "metadata": {
    "collapsed": false
   },
   "outputs": [],
   "source": [
    "for index in range(len(index_to_song)):\n",
    "    song_id = index_to_song[index]\n",
    "    with open(song_to_path[song_id] + \"/\" + song_id + \".json\") as f:\n",
    "        j = json.load(f)\n",
    "        index_to_title[index] = j['title']\n",
    "        load_tags(j, index)\n",
    "        load_similarity(j, index)"
   ]
  },
  {
   "cell_type": "markdown",
   "metadata": {},
   "source": [
    "Converting the graph to a sparse scipy Matrix"
   ]
  },
  {
   "cell_type": "code",
   "execution_count": 17,
   "metadata": {
    "collapsed": false
   },
   "outputs": [],
   "source": [
    "rows = []; cols = []; data = [] \n",
    "for i in range(len(similarity_graph)):\n",
    "    for j in similarity_graph[i]:\n",
    "        rows.append(i)\n",
    "        cols.append(j)\n",
    "    if similarity_graph[i]:\n",
    "        data += ([1.0 / len(similarity_graph[i])] * len(similarity_graph[i]))\n",
    "graph = coo_matrix((data, (rows, cols)), shape=(N, N))\n",
    "graph = graph.transpose()"
   ]
  },
  {
   "cell_type": "markdown",
   "metadata": {},
   "source": [
    "Init the Rank vector"
   ]
  },
  {
   "cell_type": "code",
   "execution_count": 24,
   "metadata": {
    "collapsed": false
   },
   "outputs": [
    {
     "data": {
      "text/plain": [
       "633515"
      ]
     },
     "execution_count": 24,
     "metadata": {},
     "output_type": "execute_result"
    }
   ],
   "source": [
    "N"
   ]
  },
  {
   "cell_type": "code",
   "execution_count": 18,
   "metadata": {
    "collapsed": false
   },
   "outputs": [],
   "source": [
    "rank = np.array([1.0 / N] * N)\n",
    "rank.shape = (N, 1)"
   ]
  },
  {
   "cell_type": "markdown",
   "metadata": {},
   "source": [
    "Iterate to untill the Rank vector converges according to the formula:\n",
    "$$ r \\leftarrow \\beta M r + (1-\\beta) S $$"
   ]
  },
  {
   "cell_type": "code",
   "execution_count": 23,
   "metadata": {
    "collapsed": false
   },
   "outputs": [
    {
     "name": "stdout",
     "output_type": "stream",
     "text": [
      "0\n",
      "1\n",
      "2\n",
      "3\n",
      "4\n",
      "5\n",
      "6\n",
      "7\n",
      "8\n",
      "9\n",
      "10\n",
      "11\n",
      "12\n",
      "13\n",
      "14\n",
      "15\n",
      "16\n",
      "17\n",
      "18\n",
      "19\n",
      "20\n",
      "21\n",
      "22\n",
      "23\n",
      "24\n",
      "25\n",
      "26\n",
      "27\n",
      "28\n",
      "29\n",
      "30\n",
      "31\n",
      "32\n",
      "33\n",
      "34\n",
      "35\n",
      "36\n",
      "37\n",
      "38\n",
      "39\n",
      "40\n",
      "41\n",
      "42\n",
      "43\n",
      "44\n",
      "45\n",
      "46\n",
      "47\n",
      "48\n",
      "49\n",
      "50\n",
      "51\n",
      "52\n",
      "53\n",
      "54\n",
      "55\n",
      "56\n",
      "57\n",
      "58\n",
      "Number of Iterations to converge = 59\n"
     ]
    }
   ],
   "source": [
    "i = 0\n",
    "topic_songs = union_by_tag(tags)\n",
    "topic_vector = coo_matrix( ([1/len(topic_songs)] * len(topic_songs), (topic_songs, [0] * len(topic_songs))), shape=(N, 1))\n",
    "previous_rank = rank\n",
    "for i in range(max_iterations):\n",
    "    print(i)\n",
    "    rank = beta * graph.dot(rank) + (1 - beta) * topic_vector\n",
    "    time_to_end = sum(abs(previous_rank - rank)) < epsilon\n",
    "    previous_rank = rank\n",
    "    i += 1\n",
    "    if time_to_end: break\n",
    "print(\"Number of Iterations to converge = \" + str(i))"
   ]
  },
  {
   "cell_type": "markdown",
   "metadata": {},
   "source": [
    "## Results"
   ]
  },
  {
   "cell_type": "markdown",
   "metadata": {},
   "source": [
    "Get the top N songs"
   ]
  },
  {
   "cell_type": "code",
   "execution_count": 26,
   "metadata": {
    "collapsed": false
   },
   "outputs": [
    {
     "name": "stdout",
     "output_type": "stream",
     "text": [
      "Below are the recommended songs for tags ['Hip-Hop']\n",
      "\n",
      "It's a Shame\thttps://www.youtube.com/results?search_query=It%27s+a+Shame+Song\n",
      "It's a Shame\thttps://www.youtube.com/results?search_query=It%27s+a+Shame+Song\n",
      "Buck Em Down\thttps://www.youtube.com/results?search_query=Buck+Em+Down+Song\n",
      "Robot\thttps://www.youtube.com/results?search_query=Robot+Song\n",
      "Physical Stamina\thttps://www.youtube.com/results?search_query=Physical+Stamina+Song\n",
      "Physical Stamina\thttps://www.youtube.com/results?search_query=Physical+Stamina+Song\n",
      "Ghetto Knows\thttps://www.youtube.com/results?search_query=Ghetto+Knows+Song\n",
      "Journey\thttps://www.youtube.com/results?search_query=Journey+Song\n",
      "9th Chamber\thttps://www.youtube.com/results?search_query=9th+Chamber+Song\n",
      "Runnin'\thttps://www.youtube.com/results?search_query=Runnin%27+Song\n"
     ]
    }
   ],
   "source": [
    "our_lovely_recommended_songs = []\n",
    "for i in range(n_songs_to_recommend):\n",
    "    index = np.argmax(rank); rank[index] = -2\n",
    "    our_lovely_recommended_songs.append(index)\n",
    "\n",
    "print(\"Below are the recommended songs for tags \" + str(tags) + \"\\n\")\n",
    "for name in [index_to_title[i] for i in our_lovely_recommended_songs]: print(name + \n",
    "                \"\\thttps://www.youtube.com/results?search_query=\" + urllib.parse.quote_plus(name+ \" Song\"))"
   ]
  }
 ],
 "metadata": {
  "kernelspec": {
   "display_name": "Python 3",
   "language": "python",
   "name": "python3"
  },
  "language_info": {
   "codemirror_mode": {
    "name": "ipython",
    "version": 3
   },
   "file_extension": ".py",
   "mimetype": "text/x-python",
   "name": "python",
   "nbconvert_exporter": "python",
   "pygments_lexer": "ipython3",
   "version": "3.5.0"
  }
 },
 "nbformat": 4,
 "nbformat_minor": 1
}
